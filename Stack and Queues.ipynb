{
  "nbformat": 4,
  "nbformat_minor": 0,
  "metadata": {
    "colab": {
      "provenance": [],
      "authorship_tag": "ABX9TyNQIFH4qe3Of1jlvKPMR0Bt",
      "include_colab_link": true
    },
    "kernelspec": {
      "name": "python3",
      "display_name": "Python 3"
    },
    "language_info": {
      "name": "python"
    }
  },
  "cells": [
    {
      "cell_type": "markdown",
      "metadata": {
        "id": "view-in-github",
        "colab_type": "text"
      },
      "source": [
        "<a href=\"https://colab.research.google.com/github/mazette04/DSA-58010/blob/main/Stack%20and%20Queues.ipynb\" target=\"_parent\"><img src=\"https://colab.research.google.com/assets/colab-badge.svg\" alt=\"Open In Colab\"/></a>"
      ]
    },
    {
      "cell_type": "code",
      "execution_count": 13,
      "metadata": {
        "colab": {
          "base_uri": "https://localhost:8080/"
        },
        "id": "okH0qmAqFDEG",
        "outputId": "e8a80095-b80e-4bae-f6c3-fc7e5490c949"
      },
      "outputs": [
        {
          "output_type": "stream",
          "name": "stdout",
          "text": [
            "The list of elements in the stack are:\n",
            "['Mon', 'Tue', 'Wed', 'Thu']\n",
            "Thu\n",
            "Wed\n",
            "\n",
            " After popping Thursday, the new elements in the stack are:\n",
            "['Mon', 'Tue']\n"
          ]
        }
      ],
      "source": [
        "class Stack:\n",
        "   def __init__(self):\n",
        "      self.stack = []\n",
        "\n",
        "   def add(self, dataval):\n",
        "# Use list append method to add element\n",
        "      if dataval not in self.stack:\n",
        "         self.stack.append(dataval)\n",
        "         return True\n",
        "      else:\n",
        "         return False\n",
        " \n",
        "# Use list pop method to remove element\n",
        "   def remove(self):\n",
        "      if len(self.stack) <= 0:\n",
        "         return (\"No element in the Stack\")\n",
        "      else:\n",
        "         return self.stack.pop()\n",
        "\n",
        "\n",
        "\n",
        "\n",
        "#to APPEND/push all the elements in the stack\n",
        "AStack.append('Mon')\n",
        "AStack.append('Tue')\n",
        "AStack.append('Wed')\n",
        "AStack.append('Thu')\n",
        "print(\"The list of elements in the stack are:\")\n",
        "print(AStack)\n",
        "#to remove each element/pop()\n",
        "print(AStack.pop())\n",
        "print(AStack.pop())\n",
        "print(\"\\n After popping Thursday, the new elements in the stack are:\")\n",
        "print(AStack)\n",
        "\n",
        "#AStack = Stack()\n",
        "#AStack.add(\"Mon\")\n",
        "#AStack.add(\"Tue\")\n",
        "#AStack.add(\"Wed\")\n",
        "#AStack.add(\"Thu\")\n",
        "#print(AStack.remove())\n",
        "#print(AStack.remove())\n",
        "#print(AStack.remove())\n",
        "#print(AStack)\n",
        "\n"
      ]
    },
    {
      "cell_type": "code",
      "source": [
        "#Python program to demo stack using Linked List\n",
        "\n",
        "class Stack:\n",
        "  def __init__(self):\n",
        "    self.stack = []\n",
        "class Node:\n",
        "  def __init__(self,data):\n",
        "    self.data = data\n",
        "    self.next = None   #initialize as null\n",
        "class LinkedList:\n",
        "  def __init__(self):\n",
        "    self.head = None  #initialize head as null\n",
        "  def printList(self):\n",
        "    temp = self.head\n",
        "    while(temp):\n",
        "      print(temp.data)\n",
        "      temp = temp.next\n",
        "  def is_empty(self):\n",
        "    if self.head == None:\n",
        "      return True\n",
        "    else:\n",
        "      return False\n",
        "\n",
        "  def pop(self):\n",
        "    if self.is_empty():\n",
        "      return None\n",
        "    else:\n",
        "      poppednode = fourth\n",
        "      return poppednode.data\n",
        "\n",
        "llist = LinkedList()\n",
        "llist.head = Node('Mon')\n",
        "second = Node(\"Tue\")\n",
        "third = Node('Wed')\n",
        "fourth = Node(\"Thu\")\n",
        "\n",
        "llist.head.next = second\n",
        "second.next = third\n",
        "third.next = fourth\n",
        "\n",
        "llist.printList()\n",
        "llist.pop()\n",
        "\n",
        "\n",
        "\n",
        "\n",
        "\n",
        "\n"
      ],
      "metadata": {
        "colab": {
          "base_uri": "https://localhost:8080/",
          "height": 110
        },
        "id": "KrfasU79M9mE",
        "outputId": "64482da9-8c03-43b1-f039-601c57d9e35e"
      },
      "execution_count": 37,
      "outputs": [
        {
          "output_type": "stream",
          "name": "stdout",
          "text": [
            "Mon\n",
            "Tue\n",
            "Wed\n",
            "Thu\n"
          ]
        },
        {
          "output_type": "execute_result",
          "data": {
            "text/plain": [
              "'Thu'"
            ],
            "application/vnd.google.colaboratory.intrinsic+json": {
              "type": "string"
            }
          },
          "metadata": {},
          "execution_count": 37
        }
      ]
    },
    {
      "cell_type": "code",
      "source": [
        "#python program to demo stack using Linked List\n",
        "class Node:\n",
        "  def __init__(self,data):\n",
        "    self.data = data\n",
        "    self.next = None  #initialize as null\n",
        "    self.head = []\n",
        "class LinkedList: \n",
        "  def __init__(self):\n",
        "    self.head = None #initialize head as null\n",
        "  def printList(self):\n",
        "      temp = self.head\n",
        "      while(temp):\n",
        "        print(temp.data)\n",
        "        temp = temp.next\n",
        "\n",
        "\n",
        "mylist = LinkedList()\n",
        "mylist.head = Node('Sunny')\n",
        "second = Node('Rainy')\n",
        "third = Node('Windy')\n",
        "fourth = Node('Breeze')\n",
        "\n",
        "mylist.head.next = second\n",
        "second.next = third\n",
        "third.next = fourth\n",
        "mylist.printList()\n",
        "#to use push and pop\n",
        "LinkedList = []\n",
        "LinkedList.append('Sunny')\n",
        "LinkedList.append('Rainy')\n",
        "LinkedList.append('Windy')\n",
        "LinkedList.append('Breeze')\n",
        "print('The list of elements in the stack are:')\n",
        "print(LinkedList)\n",
        "print('after popping Breeze, the elements in the stack are: ')\n",
        "LinkedList.pop()\n",
        "print(LinkedList)\n"
      ],
      "metadata": {
        "colab": {
          "base_uri": "https://localhost:8080/"
        },
        "id": "ALJjl3XOYCcb",
        "outputId": "3266f5f7-0a86-44e7-ec1c-d98be7d95472"
      },
      "execution_count": 39,
      "outputs": [
        {
          "output_type": "stream",
          "name": "stdout",
          "text": [
            "Sunny\n",
            "Rainy\n",
            "Windy\n",
            "Breeze\n",
            "The list of elements in the stack are:\n",
            "['Sunny', 'Rainy', 'Windy', 'Breeze']\n",
            "after popping Breeze, the elements in the stack are: \n",
            "['Sunny', 'Rainy', 'Windy']\n"
          ]
        }
      ]
    }
  ]
}