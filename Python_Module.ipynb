{
  "nbformat": 4,
  "nbformat_minor": 0,
  "metadata": {
    "colab": {
      "provenance": [],
      "authorship_tag": "ABX9TyP9FHM+LHclrNVramMmLD5r",
      "include_colab_link": true
    },
    "kernelspec": {
      "name": "python3",
      "display_name": "Python 3"
    },
    "language_info": {
      "name": "python"
    }
  },
  "cells": [
    {
      "cell_type": "markdown",
      "metadata": {
        "id": "view-in-github",
        "colab_type": "text"
      },
      "source": [
        "<a href=\"https://colab.research.google.com/github/mazette04/DSA-58010/blob/main/Python_Module.ipynb\" target=\"_parent\"><img src=\"https://colab.research.google.com/assets/colab-badge.svg\" alt=\"Open In Colab\"/></a>"
      ]
    },
    {
      "cell_type": "markdown",
      "source": [
        "Example 1"
      ],
      "metadata": {
        "id": "PEbx9dv35z-r"
      }
    },
    {
      "cell_type": "code",
      "source": [
        "import array\n",
        "array.typecodes\n",
        "\n",
        "A = array.array('i',[1,2,3,4,5,6])     #initialize the elements of array A\n",
        "B = array.array('f', [1.5,2.5,3.5,4.5,5.5,6.5])   #initialize the elements of B\n",
        "print(A.typecode)\n",
        "print(B.typecode)\n"
      ],
      "metadata": {
        "colab": {
          "base_uri": "https://localhost:8080/"
        },
        "id": "sLTzIPTT5289",
        "outputId": "5eb7145e-7155-4891-f912-6eb762b316bf"
      },
      "execution_count": 3,
      "outputs": [
        {
          "output_type": "stream",
          "name": "stdout",
          "text": [
            "i\n",
            "f\n"
          ]
        }
      ]
    },
    {
      "cell_type": "markdown",
      "source": [
        "Example 2 .Create/convert the elements of array A to float/decimal number "
      ],
      "metadata": {
        "id": "tC6uFx1C8k-e"
      }
    },
    {
      "cell_type": "code",
      "source": [
        "A = array.array('f',[1,2,3,4,5,6])   #initializing elements of array A\n",
        "print(A)"
      ],
      "metadata": {
        "colab": {
          "base_uri": "https://localhost:8080/"
        },
        "id": "NfEkV26d8uPs",
        "outputId": "6781f5e5-d768-495c-f484-e6188c3d2c55"
      },
      "execution_count": 4,
      "outputs": [
        {
          "output_type": "stream",
          "name": "stdout",
          "text": [
            "array('f', [1.0, 2.0, 3.0, 4.0, 5.0, 6.0])\n"
          ]
        }
      ]
    },
    {
      "cell_type": "markdown",
      "source": [
        "Example 3"
      ],
      "metadata": {
        "id": "FZXNKKIKAGGH"
      }
    },
    {
      "cell_type": "code",
      "source": [
        "import array\n",
        "a = array.array('i',[4,5,6,7])   #initializing array a\n",
        "b = array.array('i',[1,2,3])     #initializing array b\n",
        "a.insert(1,2)      #insert element: 2 to index 1\n",
        "print(a)\n",
        "a.insert(-1,0)    #insert element: 0 to index -1\n",
        "print(a)\n",
        "a.insert(6,8)      #insert element:8 to index 6 which is out of range\n",
        "print(a)          #append the last element of the array\n",
        "b[0] = 5\n",
        "b[1] = 4\n",
        "b[2] = 3\n",
        "print(b)\n",
        "\n",
        "\n"
      ],
      "metadata": {
        "colab": {
          "base_uri": "https://localhost:8080/"
        },
        "id": "fOshMzDQAHuO",
        "outputId": "0168c4e2-8649-475a-fa2d-cd495922fd88"
      },
      "execution_count": 12,
      "outputs": [
        {
          "output_type": "stream",
          "name": "stdout",
          "text": [
            "array('i', [4, 2, 5, 6, 7])\n",
            "array('i', [4, 2, 5, 6, 0, 7])\n",
            "array('i', [4, 2, 5, 6, 0, 7, 8])\n",
            "array('i', [5, 4, 3])\n"
          ]
        }
      ]
    },
    {
      "cell_type": "markdown",
      "source": [
        "##Linked Lists"
      ],
      "metadata": {
        "id": "4wptHKL9GY3m"
      }
    },
    {
      "cell_type": "code",
      "source": [
        "#function that creates node object\n",
        "\n",
        "class Node:\n",
        "  def __init__(self,data):\n",
        "    self.data = data    # assign data\n",
        "    self.next = None    # initialize as null\n",
        "\n",
        "#function that creates Linked-list object\n",
        "\n",
        "class LinkedList:\n",
        "  def __init(self):\n",
        "    self.head = None   #initialize head as null\n",
        "\n",
        "  def printList(self):\n",
        "    temp = self.head\n",
        "    while(temp!=None):\n",
        "      print(temp.data)\n",
        "      temp = temp.next\n",
        "\n",
        "list = LinkedList()    #empty list\n",
        "list.head = Node(1)\n",
        "second = Node(2)\n",
        "third = Node(3)\n",
        "fourth = Node(4)\n",
        "\n",
        "list.head.next=second\n",
        "second.next = third\n",
        "third.next = fourth\n",
        "\n",
        "list.printList()\n",
        "\n",
        "\n",
        "\n",
        "\n",
        "\n",
        "\n",
        "\n",
        "\n",
        "\n",
        "\n"
      ],
      "metadata": {
        "colab": {
          "base_uri": "https://localhost:8080/"
        },
        "id": "yONSFzbQGe8W",
        "outputId": "e686e928-383a-4421-e611-e239462db067"
      },
      "execution_count": 24,
      "outputs": [
        {
          "output_type": "stream",
          "name": "stdout",
          "text": [
            "1\n",
            "2\n",
            "3\n",
            "4\n"
          ]
        }
      ]
    }
  ]
}